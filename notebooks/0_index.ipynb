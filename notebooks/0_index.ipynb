{
 "cells": [
  {
   "cell_type": "markdown",
   "id": "084fac89-9613-4304-8e91-35c56102f572",
   "metadata": {},
   "source": [
    "# Reproducible Builds for Quantum Computing\n",
    "\n",
    "The Jupyter notebooks in this repository are detailed step-by-step examples illustrating the concepts presented in the paper \"Reproducible Builds for Quantum Computing\".\n",
    "\n",
    "### Data Leakage Using Non-Reproducible Quantum Circuits\n",
    "\n",
    "These three notebooks show the examples compromising the confidentiality of end users' data (see Sec. 5.1 and Sec. 6 in the paper).\n",
    "\n",
    "- [1_layout_stage](./data_leakage/1_layout_stage.ipynb)\n",
    "- [2_init_stage](./data_leakage/2_init_stage.ipynb)\n",
    "- [3_scheduling_stage](./data_leakage/3_scheduling_stage.ipynb)\n",
    "\n",
    "### Compromised Integrity Using Non-Reproducible Quantum Circuits\n",
    "\n",
    "These notebooks show two different examples affecting the results of quantum computations (see Sec. 5.2 and Sec. 7 in the paper).\n",
    "\n",
    "- [1_ghz_circuit](./integrity/1_ghz_circuit.ipynb)\n",
    "- [2_grover](./integrity/2_grover.ipynb)\n",
    "\n",
    "### Other notebooks\n",
    "\n",
    "Two additional notebooks are provided:\n",
    "\n",
    "- [1_qiskit_nondeterminism](./1_qiskit_nondeterminism.ipynb): The sources of nondeterminism in Qiskit that currently affect reproducible builds are explored here (see Sec. 8 in the paper) as well as a possible easy solution to produce reproducible quantum artifacts.\n",
    "- [2_paper_plots](./2_paper_plots.ipynb): This notebook contains the code to generate the circuits, submit jobs to the IBM Quantum Platform and generate the plots that appear in the paper."
   ]
  }
 ],
 "metadata": {
  "kernelspec": {
   "display_name": "Python 3 (ipykernel)",
   "language": "python",
   "name": "python3"
  },
  "language_info": {
   "codemirror_mode": {
    "name": "ipython",
    "version": 3
   },
   "file_extension": ".py",
   "mimetype": "text/x-python",
   "name": "python",
   "nbconvert_exporter": "python",
   "pygments_lexer": "ipython3",
   "version": "3.13.7"
  }
 },
 "nbformat": 4,
 "nbformat_minor": 5
}
